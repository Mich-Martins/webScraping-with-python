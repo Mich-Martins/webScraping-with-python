{
 "cells": [
  {
   "cell_type": "markdown",
   "id": "bad27e65",
   "metadata": {},
   "source": [
    "# Make Money with Web Scraping Part 1"
   ]
  },
  {
   "cell_type": "markdown",
   "id": "5e9d7e09",
   "metadata": {},
   "source": [
    "Write a python algorithm that finds websites with the format https://12693.portal.athenahealth.com/ and runs through the different variation of that and then pulls the practice on the site into an excel file.\n",
    "    \n",
    "Every site has the same format \"welcome to the ___ patient portal\" - so we would just need the algorithm to run through all of the ____ from the \"welcome to the ___ patient portal\" part of the site into an excel file."
   ]
  },
  {
   "cell_type": "code",
   "execution_count": 13,
   "id": "afb00bf9",
   "metadata": {},
   "outputs": [],
   "source": [
    "import requests\n",
    "from bs4 import BeautifulSoup"
   ]
  },
  {
   "cell_type": "code",
   "execution_count": 42,
   "id": "1f7c1895",
   "metadata": {},
   "outputs": [],
   "source": [
    "url = ' https://12695.portal.athenahealth.com/'"
   ]
  },
  {
   "cell_type": "code",
   "execution_count": 43,
   "id": "9b474d80",
   "metadata": {},
   "outputs": [
    {
     "name": "stdout",
     "output_type": "stream",
     "text": [
      " https://12695.portal.athenahealth.com/\n"
     ]
    }
   ],
   "source": [
    "print(url)"
   ]
  },
  {
   "cell_type": "code",
   "execution_count": 22,
   "id": "da55ff4e",
   "metadata": {},
   "outputs": [
    {
     "data": {
      "text/plain": [
       "<Response [200]>"
      ]
     },
     "execution_count": 22,
     "metadata": {},
     "output_type": "execute_result"
    }
   ],
   "source": [
    "# the below code will print out the entire html text file\n",
    "response.text\n",
    "#while this will print the http response \n",
    "response"
   ]
  },
  {
   "cell_type": "code",
   "execution_count": 44,
   "id": "5a1d99fa",
   "metadata": {},
   "outputs": [],
   "source": [
    "response = requests.get(url)"
   ]
  },
  {
   "cell_type": "code",
   "execution_count": 45,
   "id": "1cfc4c95",
   "metadata": {},
   "outputs": [],
   "source": [
    "html = response.text"
   ]
  },
  {
   "cell_type": "code",
   "execution_count": 46,
   "id": "88711dcd",
   "metadata": {},
   "outputs": [],
   "source": [
    "soup  = BeautifulSoup(html, 'html.parser')"
   ]
  },
  {
   "cell_type": "code",
   "execution_count": 47,
   "id": "cd15d43a",
   "metadata": {},
   "outputs": [
    {
     "data": {
      "text/plain": [
       "'Patient Portal'"
      ]
     },
     "execution_count": 47,
     "metadata": {},
     "output_type": "execute_result"
    }
   ],
   "source": [
    "soup.title.text.strip()"
   ]
  },
  {
   "cell_type": "code",
   "execution_count": 48,
   "id": "e2c480a7",
   "metadata": {},
   "outputs": [
    {
     "data": {
      "text/plain": [
       "[<h1 class=\"fe_c_heading fe_c_heading--section supported_browser_centered_block\" id=\"fe-lightbox-labeledby-gen-1\">Please update your browser</h1>,\n",
       " <h1>Welcome to the Dr. Richard Handelsman \n",
       " \t\t\tPatient Information Center</h1>,\n",
       " <h1 align=\"center\">\n",
       " Dr. Richard Handelsman</h1>]"
      ]
     },
     "execution_count": 48,
     "metadata": {},
     "output_type": "execute_result"
    }
   ],
   "source": [
    "#this codeline find all of the h1 tag in the html\n",
    "soup.find_all('h1')"
   ]
  },
  {
   "cell_type": "code",
   "execution_count": 49,
   "id": "26b3e640",
   "metadata": {},
   "outputs": [
    {
     "data": {
      "text/plain": [
       "3"
      ]
     },
     "execution_count": 49,
     "metadata": {},
     "output_type": "execute_result"
    }
   ],
   "source": [
    "#to find the number of h1 tags in the file\n",
    "len(soup.find_all('h1'))"
   ]
  },
  {
   "cell_type": "code",
   "execution_count": 50,
   "id": "18a48083",
   "metadata": {},
   "outputs": [
    {
     "data": {
      "text/plain": [
       "'Dr. Richard Handelsman'"
      ]
     },
     "execution_count": 50,
     "metadata": {},
     "output_type": "execute_result"
    }
   ],
   "source": [
    "#For the particular heading we need\n",
    "clinic_name = soup.find_all('h1')[-1].text.strip()"
   ]
  },
  {
   "cell_type": "code",
   "execution_count": null,
   "id": "e5df508d",
   "metadata": {},
   "outputs": [],
   "source": [
    "# for  explantion purpose\n",
    "# clinic_id = 1\n",
    "# f'https://{clinic_id}.portal.athenahealth.com/'\n",
    "# the f infront of the url is identifying the name in the cury braces."
   ]
  },
  {
   "cell_type": "code",
   "execution_count": 57,
   "id": "15fe982f",
   "metadata": {},
   "outputs": [],
   "source": [
    "#for good indentation and formatting in getting the clinin name of other site we can have\n",
    "def get_clinic_name(clinic_id):\n",
    "    url         = f'https://{clinic_id}.portal.athenahealth.com/'\n",
    "    response    = requests.get(url)\n",
    "    html        = response.text\n",
    "    soup        = BeautifulSoup(html, 'html.parser')\n",
    "    clinic_name = soup.find_all('h1')[-1].text.strip()\n",
    "    return clinic_name"
   ]
  },
  {
   "cell_type": "code",
   "execution_count": 58,
   "id": "e4e5ffc9",
   "metadata": {},
   "outputs": [
    {
     "data": {
      "text/plain": [
       "\"Women's CenterforIntegrative Health\""
      ]
     },
     "execution_count": 58,
     "metadata": {},
     "output_type": "execute_result"
    }
   ],
   "source": [
    "get_clinic_name(12696)  "
   ]
  },
  {
   "cell_type": "code",
   "execution_count": 60,
   "id": "d2d2d708",
   "metadata": {},
   "outputs": [],
   "source": [
    "start = 12690\n",
    "end = 12700 "
   ]
  },
  {
   "cell_type": "code",
   "execution_count": 71,
   "id": "f20a66f4",
   "metadata": {},
   "outputs": [
    {
     "name": "stdout",
     "output_type": "stream",
     "text": [
      "12690\n",
      "12691\n",
      "12692\n",
      "12693\n",
      "12694\n",
      "12695\n",
      "12696\n",
      "12697\n",
      "12698\n",
      "12699\n",
      "12700\n"
     ]
    }
   ],
   "source": [
    "masterList = []\n",
    "\n",
    "for clinic_id in range(start, end+1):\n",
    "    dataDict = {}\n",
    "    dataDict['clinic_id'] = clinic_id\n",
    "    dataDict['clinic_name'] = get_clinic_name(clinic_id)\n",
    "    if dataDict['clinic_name'] != 'Payment Confirmation' and dataDict['clinic_name'] != \"Sorry, we can't find that practice. Make sure you typed the right address.\":\n",
    "        masterList.append(dataDict)\n",
    "    print(clinic_id)"
   ]
  },
  {
   "cell_type": "code",
   "execution_count": 73,
   "id": "e2a59c92",
   "metadata": {},
   "outputs": [
    {
     "data": {
      "text/plain": [
       "[{'clinic_id': 12691, 'clinic_name': 'Ergomedica'},\n",
       " {'clinic_id': 12693, 'clinic_name': 'Altamonte Family Practice'},\n",
       " {'clinic_id': 12694, 'clinic_name': 'Open Health Care Clinic'},\n",
       " {'clinic_id': 12695, 'clinic_name': 'Dr. Richard Handelsman'},\n",
       " {'clinic_id': 12696, 'clinic_name': \"Women's CenterforIntegrative Health\"},\n",
       " {'clinic_id': 12697, 'clinic_name': 'Eastern Urological Associates'}]"
      ]
     },
     "execution_count": 73,
     "metadata": {},
     "output_type": "execute_result"
    }
   ],
   "source": [
    "#This codeline was initiated after the if clause was included\n",
    "masterListList"
   ]
  },
  {
   "cell_type": "code",
   "execution_count": 64,
   "id": "099f4ce6",
   "metadata": {},
   "outputs": [
    {
     "data": {
      "text/plain": [
       "[{'clinic_id': 12690, 'clinic_name': 'Payment Confirmation'},\n",
       " {'clinic_id': 12691, 'clinic_name': 'Ergomedica'},\n",
       " {'clinic_id': 12692,\n",
       "  'clinic_name': \"Sorry, we can't find that practice. Make sure you typed the right address.\"},\n",
       " {'clinic_id': 12693, 'clinic_name': 'Altamonte Family Practice'},\n",
       " {'clinic_id': 12694, 'clinic_name': 'Open Health Care Clinic'},\n",
       " {'clinic_id': 12695, 'clinic_name': 'Dr. Richard Handelsman'},\n",
       " {'clinic_id': 12696, 'clinic_name': \"Women's CenterforIntegrative Health\"},\n",
       " {'clinic_id': 12697, 'clinic_name': 'Eastern Urological Associates'},\n",
       " {'clinic_id': 12698,\n",
       "  'clinic_name': \"Sorry, we can't find that practice. Make sure you typed the right address.\"},\n",
       " {'clinic_id': 12699, 'clinic_name': 'Payment Confirmation'},\n",
       " {'clinic_id': 12700, 'clinic_name': 'Payment Confirmation'}]"
      ]
     },
     "execution_count": 64,
     "metadata": {},
     "output_type": "execute_result"
    }
   ],
   "source": [
    "masterList"
   ]
  },
  {
   "cell_type": "code",
   "execution_count": 65,
   "id": "fdccda04",
   "metadata": {},
   "outputs": [],
   "source": [
    "import pandas as pd"
   ]
  },
  {
   "cell_type": "code",
   "execution_count": 66,
   "id": "16cb3d5a",
   "metadata": {},
   "outputs": [],
   "source": [
    "df = pd.DataFrame(masterList)"
   ]
  },
  {
   "cell_type": "code",
   "execution_count": 70,
   "id": "6cec456c",
   "metadata": {},
   "outputs": [],
   "source": [
    "# df\n",
    "df.to_csv('clinic_data.csv', index=False)"
   ]
  }
 ],
 "metadata": {
  "kernelspec": {
   "display_name": "Python 3 (ipykernel)",
   "language": "python",
   "name": "python3"
  },
  "language_info": {
   "codemirror_mode": {
    "name": "ipython",
    "version": 3
   },
   "file_extension": ".py",
   "mimetype": "text/x-python",
   "name": "python",
   "nbconvert_exporter": "python",
   "pygments_lexer": "ipython3",
   "version": "3.11.5"
  }
 },
 "nbformat": 4,
 "nbformat_minor": 5
}
